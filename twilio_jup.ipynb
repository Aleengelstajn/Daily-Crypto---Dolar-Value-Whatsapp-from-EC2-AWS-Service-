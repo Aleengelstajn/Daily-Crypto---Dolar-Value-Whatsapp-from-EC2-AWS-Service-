{
 "cells": [
  {
   "cell_type": "code",
   "execution_count": 5,
   "metadata": {},
   "outputs": [],
   "source": [
    "''' Libraries '''\n",
    "import os\n",
    "import time\n",
    "import pandas as pd\n",
    "from datetime import datetime\n",
    "\n",
    "import requests\n",
    "from requests import Request, Session\n",
    "from requests.exceptions import ConnectionError, Timeout, TooManyRedirects\n",
    "import json\n",
    "\n",
    "from twilio.rest import Client\n",
    "from twilio_config import TWILIO_ACCOUNT_SID, TWILIO_AUTH_TOKEN, PHONE_NUMBER, API_KEY_WAPI\n",
    "\n",
    "from pycoingecko import CoinGeckoAPI\n"
   ]
  },
  {
   "attachments": {},
   "cell_type": "markdown",
   "metadata": {},
   "source": [
    "---------\n",
    "\n",
    "# CoinGecko"
   ]
  },
  {
   "cell_type": "code",
   "execution_count": 12,
   "metadata": {},
   "outputs": [
    {
     "data": {
      "text/html": [
       "<div>\n",
       "<style scoped>\n",
       "    .dataframe tbody tr th:only-of-type {\n",
       "        vertical-align: middle;\n",
       "    }\n",
       "\n",
       "    .dataframe tbody tr th {\n",
       "        vertical-align: top;\n",
       "    }\n",
       "\n",
       "    .dataframe thead th {\n",
       "        text-align: right;\n",
       "    }\n",
       "</style>\n",
       "<table border=\"1\" class=\"dataframe\">\n",
       "  <thead>\n",
       "    <tr style=\"text-align: right;\">\n",
       "      <th></th>\n",
       "      <th>id</th>\n",
       "      <th>symbol</th>\n",
       "      <th>name</th>\n",
       "    </tr>\n",
       "  </thead>\n",
       "  <tbody>\n",
       "    <tr>\n",
       "      <th>0</th>\n",
       "      <td>01coin</td>\n",
       "      <td>zoc</td>\n",
       "      <td>01coin</td>\n",
       "    </tr>\n",
       "    <tr>\n",
       "      <th>1</th>\n",
       "      <td>0chain</td>\n",
       "      <td>zcn</td>\n",
       "      <td>Zus</td>\n",
       "    </tr>\n",
       "    <tr>\n",
       "      <th>2</th>\n",
       "      <td>0x</td>\n",
       "      <td>zrx</td>\n",
       "      <td>0x</td>\n",
       "    </tr>\n",
       "    <tr>\n",
       "      <th>3</th>\n",
       "      <td>0xcert</td>\n",
       "      <td>zxc</td>\n",
       "      <td>0xcert</td>\n",
       "    </tr>\n",
       "    <tr>\n",
       "      <th>4</th>\n",
       "      <td>0xdao</td>\n",
       "      <td>oxd</td>\n",
       "      <td>0xDAO</td>\n",
       "    </tr>\n",
       "    <tr>\n",
       "      <th>...</th>\n",
       "      <td>...</td>\n",
       "      <td>...</td>\n",
       "      <td>...</td>\n",
       "    </tr>\n",
       "    <tr>\n",
       "      <th>12891</th>\n",
       "      <td>zuz-protocol</td>\n",
       "      <td>zuz</td>\n",
       "      <td>ZUZ Protocol</td>\n",
       "    </tr>\n",
       "    <tr>\n",
       "      <th>12892</th>\n",
       "      <td>zynecoin</td>\n",
       "      <td>zyn</td>\n",
       "      <td>Zynecoin</td>\n",
       "    </tr>\n",
       "    <tr>\n",
       "      <th>12893</th>\n",
       "      <td>zyro</td>\n",
       "      <td>zyro</td>\n",
       "      <td>Zyro</td>\n",
       "    </tr>\n",
       "    <tr>\n",
       "      <th>12894</th>\n",
       "      <td>zyrri</td>\n",
       "      <td>zyr</td>\n",
       "      <td>Zyrri</td>\n",
       "    </tr>\n",
       "    <tr>\n",
       "      <th>12895</th>\n",
       "      <td>zyx</td>\n",
       "      <td>zyx</td>\n",
       "      <td>ZYX</td>\n",
       "    </tr>\n",
       "  </tbody>\n",
       "</table>\n",
       "<p>12896 rows × 3 columns</p>\n",
       "</div>"
      ],
      "text/plain": [
       "                 id symbol          name\n",
       "0            01coin    zoc        01coin\n",
       "1            0chain    zcn           Zus\n",
       "2                0x    zrx            0x\n",
       "3            0xcert    zxc        0xcert\n",
       "4             0xdao    oxd         0xDAO\n",
       "...             ...    ...           ...\n",
       "12891  zuz-protocol    zuz  ZUZ Protocol\n",
       "12892      zynecoin    zyn      Zynecoin\n",
       "12893          zyro   zyro          Zyro\n",
       "12894         zyrri    zyr         Zyrri\n",
       "12895           zyx    zyx           ZYX\n",
       "\n",
       "[12896 rows x 3 columns]"
      ]
     },
     "execution_count": 12,
     "metadata": {},
     "output_type": "execute_result"
    }
   ],
   "source": [
    "''' CoinGecko'''\n",
    "cg = CoinGeckoAPI()\n",
    "coinList = cg.get_coins_list()\n",
    "coinDataFrame = pd.DataFrame.from_dict(coinList).sort_values('id').reset_index(drop=True)\n",
    "coinDataFrame"
   ]
  },
  {
   "cell_type": "code",
   "execution_count": 49,
   "metadata": {},
   "outputs": [
    {
     "name": "stdout",
     "output_type": "stream",
     "text": [
      " BTC: $16863.77 ETH: $1219.88 \n"
     ]
    }
   ],
   "source": [
    "coins = [ 'bitcoin', 'ethereum']\n",
    "simplePriceRequest = cg.get_price(ids = coins, vs_currencies='usd')\n",
    "btc = simplePriceRequest['bitcoin']['usd']\n",
    "eth = simplePriceRequest['ethereum']['usd']\n",
    "print (f' BTC: ${btc} ETH: ${eth} ')\n"
   ]
  },
  {
   "attachments": {},
   "cell_type": "markdown",
   "metadata": {},
   "source": [
    "------------\n",
    "\n",
    "# DOLAR API"
   ]
  },
  {
   "cell_type": "code",
   "execution_count": 22,
   "metadata": {},
   "outputs": [
    {
     "data": {
      "text/plain": [
       "dict_keys(['oficial', 'blue', 'oficial_euro', 'blue_euro', 'last_update'])"
      ]
     },
     "execution_count": 22,
     "metadata": {},
     "output_type": "execute_result"
    }
   ],
   "source": [
    "import requests\n",
    "r = requests.get('https://api.bluelytics.com.ar/v2/latest')\n",
    "data = r.json()\n",
    "data.keys()"
   ]
  },
  {
   "cell_type": "code",
   "execution_count": 44,
   "metadata": {},
   "outputs": [
    {
     "name": "stdout",
     "output_type": "stream",
     "text": [
      "El valor del dolar para hoy 2022-12-26 es: \n",
      "Oficial $178.5 \n",
      "Blue $344.0 \n"
     ]
    }
   ],
   "source": [
    "fecha = data['last_update'].split('T')[0]\n",
    "dolar_oficial = data['oficial']['value_avg']\n",
    "dolar_blue = data['blue']['value_avg']\n",
    "print(f'El valor del dolar para hoy {fecha} es: \\nOficial ${dolar_oficial} \\nBlue ${dolar_blue } ')"
   ]
  },
  {
   "attachments": {},
   "cell_type": "markdown",
   "metadata": {},
   "source": [
    "---------------\n",
    "# Twilio Whatsapp\n",
    "\n",
    "### Mensaje"
   ]
  },
  {
   "cell_type": "code",
   "execution_count": 55,
   "metadata": {},
   "outputs": [
    {
     "name": "stdout",
     "output_type": "stream",
     "text": [
      "Las cotizaciones para hoy 2022-12-26 son: \n",
      " \n",
      "Dólar oficial $178.5 \n",
      "Dólar blue $344.0 \n",
      "BTC: $16863.77 \n",
      "ETH: $1219.88 \n"
     ]
    }
   ],
   "source": [
    "print(f'Las cotizaciones para hoy {fecha} son: \\n \\nDólar oficial ${dolar_oficial} \\nDólar blue ${dolar_blue } \\nBTC: ${btc} \\nETH: ${eth} ')"
   ]
  },
  {
   "attachments": {},
   "cell_type": "markdown",
   "metadata": {},
   "source": [
    "### Twilio"
   ]
  },
  {
   "cell_type": "code",
   "execution_count": 63,
   "metadata": {},
   "outputs": [
    {
     "name": "stdout",
     "output_type": "stream",
     "text": [
      "Mensaje enviado con éxito!\n"
     ]
    }
   ],
   "source": [
    "account_sid = TWILIO_ACCOUNT_SID\n",
    "auth_token = TWILIO_AUTH_TOKEN\n",
    "client = Client(account_sid, auth_token)\n",
    "\n",
    "from_whatsapp_number = 'whatsapp:+14155238886'\n",
    "to_whatsapp_number = 'whatsapp:+5492612539749'\n",
    "\n",
    "client.messages.create(body=f'Hola! ¿Cómo estás? \\nLas cotizaciones para hoy {fecha} son: \\n \\nDólar oficial ${dolar_oficial} \\nDólar blue ${dolar_blue } \\nBTC: ${btc} \\nETH: ${eth}', \n",
    "                    from_=from_whatsapp_number, \n",
    "                    to=to_whatsapp_number)\n",
    "print('Mensaje enviado con éxito!')"
   ]
  }
 ],
 "metadata": {
  "kernelspec": {
   "display_name": "Python 3",
   "language": "python",
   "name": "python3"
  },
  "language_info": {
   "codemirror_mode": {
    "name": "ipython",
    "version": 3
   },
   "file_extension": ".py",
   "mimetype": "text/x-python",
   "name": "python",
   "nbconvert_exporter": "python",
   "pygments_lexer": "ipython3",
   "version": "3.9.13"
  },
  "orig_nbformat": 4,
  "vscode": {
   "interpreter": {
    "hash": "006c2b932914ff8e95f30e749041e4b399d36857f00ee48d79cb79341a100acd"
   }
  }
 },
 "nbformat": 4,
 "nbformat_minor": 2
}
